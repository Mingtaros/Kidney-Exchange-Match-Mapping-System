{
 "cells": [
  {
   "cell_type": "code",
   "execution_count": 1,
   "metadata": {},
   "outputs": [],
   "source": [
    "import numpy as np\n",
    "import pandas as pd\n",
    "\n",
    "from util.directed_graph import DirectedGraph\n",
    "from util.read_pairs_data import read_pairs_data\n",
    "from util.graph_vis import GraphVisualization\n",
    "\n",
    "import matplotlib.pyplot as plt\n",
    "import seaborn as sns\n",
    "%matplotlib inline"
   ]
  },
  {
   "cell_type": "code",
   "execution_count": 2,
   "metadata": {},
   "outputs": [],
   "source": [
    "pairs_filename = \"../data/100/100_0_pairs.txt\""
   ]
  },
  {
   "cell_type": "code",
   "execution_count": 3,
   "metadata": {},
   "outputs": [
    {
     "data": {
      "text/html": [
       "<div>\n",
       "<style scoped>\n",
       "    .dataframe tbody tr th:only-of-type {\n",
       "        vertical-align: middle;\n",
       "    }\n",
       "\n",
       "    .dataframe tbody tr th {\n",
       "        vertical-align: top;\n",
       "    }\n",
       "\n",
       "    .dataframe thead th {\n",
       "        text-align: right;\n",
       "    }\n",
       "</style>\n",
       "<table border=\"1\" class=\"dataframe\">\n",
       "  <thead>\n",
       "    <tr style=\"text-align: right;\">\n",
       "      <th></th>\n",
       "      <th>pair_num</th>\n",
       "      <th>donor_bloodtype</th>\n",
       "      <th>recipient_bloodtype</th>\n",
       "      <th>pra</th>\n",
       "    </tr>\n",
       "  </thead>\n",
       "  <tbody>\n",
       "    <tr>\n",
       "      <th>0</th>\n",
       "      <td>0</td>\n",
       "      <td>A</td>\n",
       "      <td>O</td>\n",
       "      <td>90</td>\n",
       "    </tr>\n",
       "    <tr>\n",
       "      <th>1</th>\n",
       "      <td>1</td>\n",
       "      <td>B</td>\n",
       "      <td>-</td>\n",
       "      <td>-1</td>\n",
       "    </tr>\n",
       "    <tr>\n",
       "      <th>2</th>\n",
       "      <td>2</td>\n",
       "      <td>A</td>\n",
       "      <td>O</td>\n",
       "      <td>90</td>\n",
       "    </tr>\n",
       "    <tr>\n",
       "      <th>3</th>\n",
       "      <td>3</td>\n",
       "      <td>A</td>\n",
       "      <td>A</td>\n",
       "      <td>92</td>\n",
       "    </tr>\n",
       "    <tr>\n",
       "      <th>4</th>\n",
       "      <td>4</td>\n",
       "      <td>A</td>\n",
       "      <td>B</td>\n",
       "      <td>5</td>\n",
       "    </tr>\n",
       "  </tbody>\n",
       "</table>\n",
       "</div>"
      ],
      "text/plain": [
       "  pair_num donor_bloodtype recipient_bloodtype  pra\n",
       "0        0               A                   O   90\n",
       "1        1               B                   -   -1\n",
       "2        2               A                   O   90\n",
       "3        3               A                   A   92\n",
       "4        4               A                   B    5"
      ]
     },
     "execution_count": 3,
     "metadata": {},
     "output_type": "execute_result"
    }
   ],
   "source": [
    "pairs = read_pairs_data(pairs_filename)\n",
    "pairs.head()"
   ]
  },
  {
   "cell_type": "code",
   "execution_count": 4,
   "metadata": {},
   "outputs": [
    {
     "data": {
      "text/html": [
       "<div>\n",
       "<style scoped>\n",
       "    .dataframe tbody tr th:only-of-type {\n",
       "        vertical-align: middle;\n",
       "    }\n",
       "\n",
       "    .dataframe tbody tr th {\n",
       "        vertical-align: top;\n",
       "    }\n",
       "\n",
       "    .dataframe thead th {\n",
       "        text-align: right;\n",
       "    }\n",
       "</style>\n",
       "<table border=\"1\" class=\"dataframe\">\n",
       "  <thead>\n",
       "    <tr style=\"text-align: right;\">\n",
       "      <th></th>\n",
       "      <th>pair_num</th>\n",
       "      <th>donor_bloodtype</th>\n",
       "      <th>recipient_bloodtype</th>\n",
       "      <th>pra</th>\n",
       "    </tr>\n",
       "  </thead>\n",
       "  <tbody>\n",
       "    <tr>\n",
       "      <th>95</th>\n",
       "      <td>95</td>\n",
       "      <td>A</td>\n",
       "      <td>-</td>\n",
       "      <td>-1</td>\n",
       "    </tr>\n",
       "    <tr>\n",
       "      <th>96</th>\n",
       "      <td>96</td>\n",
       "      <td>B</td>\n",
       "      <td>O</td>\n",
       "      <td>5</td>\n",
       "    </tr>\n",
       "    <tr>\n",
       "      <th>97</th>\n",
       "      <td>97</td>\n",
       "      <td>B</td>\n",
       "      <td>O</td>\n",
       "      <td>5</td>\n",
       "    </tr>\n",
       "    <tr>\n",
       "      <th>98</th>\n",
       "      <td>98</td>\n",
       "      <td>AB</td>\n",
       "      <td>A</td>\n",
       "      <td>32</td>\n",
       "    </tr>\n",
       "    <tr>\n",
       "      <th>99</th>\n",
       "      <td>99</td>\n",
       "      <td>AB</td>\n",
       "      <td>A</td>\n",
       "      <td>5</td>\n",
       "    </tr>\n",
       "  </tbody>\n",
       "</table>\n",
       "</div>"
      ],
      "text/plain": [
       "   pair_num donor_bloodtype recipient_bloodtype  pra\n",
       "95       95               A                   -   -1\n",
       "96       96               B                   O    5\n",
       "97       97               B                   O    5\n",
       "98       98              AB                   A   32\n",
       "99       99              AB                   A    5"
      ]
     },
     "execution_count": 4,
     "metadata": {},
     "output_type": "execute_result"
    }
   ],
   "source": [
    "pairs.tail()"
   ]
  },
  {
   "cell_type": "code",
   "execution_count": 5,
   "metadata": {},
   "outputs": [],
   "source": [
    "grph = DirectedGraph(pairs.tail(20))"
   ]
  },
  {
   "cell_type": "code",
   "execution_count": 6,
   "metadata": {},
   "outputs": [
    {
     "data": {
      "text/plain": [
       "{80: [85, 91, 92, 93, 98, 99],\n",
       " 81: [85, 91, 92, 93, 98, 99],\n",
       " 83: [85, 91, 92, 93, 98, 99],\n",
       " 84: [81],\n",
       " 85: [80, 81, 82, 83, 84, 86, 87, 88, 89, 90, 91, 92, 93, 94, 96, 97, 98, 99],\n",
       " 86: [85, 91, 92, 93, 98, 99],\n",
       " 87: [81],\n",
       " 88: [81],\n",
       " 89: [85, 91, 92, 93, 98, 99],\n",
       " 90: [85, 91, 92, 93, 98, 99],\n",
       " 91: [81],\n",
       " 92: [81],\n",
       " 93: [81],\n",
       " 94: [85, 91, 92, 93, 98, 99],\n",
       " 95: [85, 91, 92, 93, 98, 99],\n",
       " 96: [81],\n",
       " 97: [81]}"
      ]
     },
     "execution_count": 6,
     "metadata": {},
     "output_type": "execute_result"
    }
   ],
   "source": [
    "grph.adjacency"
   ]
  },
  {
   "cell_type": "code",
   "execution_count": 7,
   "metadata": {},
   "outputs": [],
   "source": [
    "edges = []\n",
    "\n",
    "for donor_idx in grph.adjacency:\n",
    "    for recipient_idx in grph.adjacency[donor_idx]:\n",
    "        edges.append([donor_idx, recipient_idx])"
   ]
  },
  {
   "cell_type": "code",
   "execution_count": 8,
   "metadata": {},
   "outputs": [],
   "source": [
    "gv = GraphVisualization()\n",
    "\n",
    "for from_, to_ in edges[:15]:\n",
    "    gv.add_edge(from_, to_)"
   ]
  },
  {
   "cell_type": "code",
   "execution_count": 9,
   "metadata": {
    "scrolled": true
   },
   "outputs": [
    {
     "data": {
      "image/png": "[encoded data removed]",
      "text/plain": [
       "<Figure size 1080x1080 with 1 Axes>"
      ]
     },
     "metadata": {},
     "output_type": "display_data"
    }
   ],
   "source": [
    "plt.figure(figsize=(15, 15))\n",
    "gv.visualize()"
   ]
  },
  {
   "cell_type": "code",
   "execution_count": 10,
   "metadata": {},
   "outputs": [],
   "source": [
    "cycles = grph.get_cycles()"
   ]
  },
  {
   "cell_type": "code",
   "execution_count": 11,
   "metadata": {},
   "outputs": [
    {
     "data": {
      "text/plain": [
       "[[80, 85],\n",
       " [80, 91, 81, 85],\n",
       " [80, 92, 81, 85],\n",
       " [80, 93, 81, 85],\n",
       " [81, 85, 80, 91],\n",
       " [81, 85, 80, 92],\n",
       " [81, 85, 80, 93],\n",
       " [81, 85],\n",
       " [81, 85, 83, 91],\n",
       " [81, 85, 83, 92],\n",
       " [81, 85, 83, 93],\n",
       " [81, 85, 84],\n",
       " [81, 85, 86, 91],\n",
       " [81, 85, 86, 92],\n",
       " [81, 85, 86, 93],\n",
       " [81, 85, 87],\n",
       " [81, 85, 88],\n",
       " [81, 85, 89, 91],\n",
       " [81, 85, 89, 92],\n",
       " [81, 85, 89, 93],\n",
       " [81, 85, 90, 91],\n",
       " [81, 85, 90, 92],\n",
       " [81, 85, 90, 93],\n",
       " [81, 85, 91],\n",
       " [81, 85, 92],\n",
       " [81, 85, 93],\n",
       " [81, 85, 94, 91],\n",
       " [81, 85, 94, 92],\n",
       " [81, 85, 94, 93],\n",
       " [81, 85, 96],\n",
       " [81, 85, 97],\n",
       " [81, 91],\n",
       " [81, 92],\n",
       " [81, 93],\n",
       " [83, 85],\n",
       " [83, 91, 81, 85],\n",
       " [83, 92, 81, 85],\n",
       " [83, 93, 81, 85],\n",
       " [84, 81, 85],\n",
       " [85, 80],\n",
       " [85, 80, 91, 81],\n",
       " [85, 80, 92, 81],\n",
       " [85, 80, 93, 81],\n",
       " [85, 81],\n",
       " [85, 83],\n",
       " [85, 83, 91, 81],\n",
       " [85, 83, 92, 81],\n",
       " [85, 83, 93, 81],\n",
       " [85, 84, 81],\n",
       " [85, 86],\n",
       " [85, 86, 91, 81],\n",
       " [85, 86, 92, 81],\n",
       " [85, 86, 93, 81],\n",
       " [85, 87, 81],\n",
       " [85, 88, 81],\n",
       " [85, 89],\n",
       " [85, 89, 91, 81],\n",
       " [85, 89, 92, 81],\n",
       " [85, 89, 93, 81],\n",
       " [85, 90],\n",
       " [85, 90, 91, 81],\n",
       " [85, 90, 92, 81],\n",
       " [85, 90, 93, 81],\n",
       " [85, 91, 81],\n",
       " [85, 92, 81],\n",
       " [85, 93, 81],\n",
       " [85, 94],\n",
       " [85, 94, 91, 81],\n",
       " [85, 94, 92, 81],\n",
       " [85, 94, 93, 81],\n",
       " [85, 96, 81],\n",
       " [85, 97, 81],\n",
       " [86, 85],\n",
       " [86, 91, 81, 85],\n",
       " [86, 92, 81, 85],\n",
       " [86, 93, 81, 85],\n",
       " [87, 81, 85],\n",
       " [88, 81, 85],\n",
       " [89, 85],\n",
       " [89, 91, 81, 85],\n",
       " [89, 92, 81, 85],\n",
       " [89, 93, 81, 85],\n",
       " [90, 85],\n",
       " [90, 91, 81, 85],\n",
       " [90, 92, 81, 85],\n",
       " [90, 93, 81, 85],\n",
       " [91, 81, 85, 80],\n",
       " [91, 81, 85, 83],\n",
       " [91, 81, 85, 86],\n",
       " [91, 81, 85, 89],\n",
       " [91, 81, 85, 90],\n",
       " [91, 81, 85],\n",
       " [91, 81, 85, 94],\n",
       " [91, 81],\n",
       " [92, 81, 85, 80],\n",
       " [92, 81, 85, 83],\n",
       " [92, 81, 85, 86],\n",
       " [92, 81, 85, 89],\n",
       " [92, 81, 85, 90],\n",
       " [92, 81, 85],\n",
       " [92, 81, 85, 94],\n",
       " [92, 81],\n",
       " [93, 81, 85, 80],\n",
       " [93, 81, 85, 83],\n",
       " [93, 81, 85, 86],\n",
       " [93, 81, 85, 89],\n",
       " [93, 81, 85, 90],\n",
       " [93, 81, 85],\n",
       " [93, 81, 85, 94],\n",
       " [93, 81],\n",
       " [94, 85],\n",
       " [94, 91, 81, 85],\n",
       " [94, 92, 81, 85],\n",
       " [94, 93, 81, 85],\n",
       " [96, 81, 85],\n",
       " [97, 81, 85]]"
      ]
     },
     "execution_count": 11,
     "metadata": {},
     "output_type": "execute_result"
    }
   ],
   "source": [
    "cycles"
   ]
  },
  {
   "cell_type": "code",
   "execution_count": 12,
   "metadata": {},
   "outputs": [
    {
     "ename": "IndexError",
     "evalue": "list index out of range",
     "output_type": "error",
     "traceback": [
      "\u001b[1;31m---------------------------------------------------------------------------\u001b[0m",
      "\u001b[1;31mIndexError\u001b[0m                                Traceback (most recent call last)",
      "\u001b[1;32m<ipython-input-12-f7f6c4fd2747>\u001b[0m in \u001b[0;36m<module>\u001b[1;34m\u001b[0m\n\u001b[1;32m----> 1\u001b[1;33m \u001b[1;32mfor\u001b[0m \u001b[0ma\u001b[0m \u001b[1;32min\u001b[0m \u001b[0mcycles\u001b[0m\u001b[1;33m[\u001b[0m\u001b[1;36m160\u001b[0m\u001b[1;33m]\u001b[0m\u001b[1;33m:\u001b[0m\u001b[1;33m\u001b[0m\u001b[1;33m\u001b[0m\u001b[0m\n\u001b[0m\u001b[0;32m      2\u001b[0m     \u001b[0mprint\u001b[0m\u001b[1;33m(\u001b[0m\u001b[0mpairs\u001b[0m\u001b[1;33m.\u001b[0m\u001b[0miloc\u001b[0m\u001b[1;33m[\u001b[0m\u001b[0ma\u001b[0m\u001b[1;33m]\u001b[0m\u001b[1;33m)\u001b[0m\u001b[1;33m\u001b[0m\u001b[1;33m\u001b[0m\u001b[0m\n",
      "\u001b[1;31mIndexError\u001b[0m: list index out of range"
     ]
    }
   ],
   "source": [
    "for a in cycles[160]:\n",
    "    print(pairs.iloc[a])"
   ]
  },
  {
   "cell_type": "code",
   "execution_count": null,
   "metadata": {},
   "outputs": [],
   "source": []
  },
  {
   "cell_type": "code",
   "execution_count": null,
   "metadata": {},
   "outputs": [],
   "source": []
  }
 ],
 "metadata": {
  "kernelspec": {
   "display_name": "Python 3",
   "language": "python",
   "name": "python3"
  },
  "language_info": {
   "codemirror_mode": {
    "name": "ipython",
    "version": 3
   },
   "file_extension": ".py",
   "mimetype": "text/x-python",
   "name": "python",
   "nbconvert_exporter": "python",
   "pygments_lexer": "ipython3",
   "version": "3.6.7"
  }
 },
 "nbformat": 4,
 "nbformat_minor": 4
}
